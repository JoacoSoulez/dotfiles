{
  "cells": [
    {
      "cell_type": "markdown",
      "metadata": {
        "id": "view-in-github",
        "colab_type": "text"
      },
      "source": [
        "<a href=\"https://colab.research.google.com/github/JoacoSoulez/dotfiles/blob/master/your_first_neural_network.ipynb\" target=\"_parent\"><img src=\"https://colab.research.google.com/assets/colab-badge.svg\" alt=\"Open In Colab\"/></a>"
      ]
    },
    {
      "cell_type": "markdown",
      "metadata": {
        "id": "yzTi9_El5st4"
      },
      "source": [
        "# Deep Learning week - Day 1 - Your First Neural Network\n",
        "\n",
        "### Exercise objectives\n",
        "- Write your first Neural Network\n",
        "- Inspect some of the most important hyperparameters of Neural Networks\n",
        "\n",
        "<hr>\n",
        "<hr>\n",
        "\n",
        "\n",
        "In this exercise, you will build your first Neural Network that will separate two classes.\n",
        "Each data $X$ has only two coordinates $X = (x_1, x_2)$ and belongs to either the class 0 or to the class 1. It is called the `moons dataset`. \n",
        "\n",
        "As there are only two features, the points can be represented on a 2D-scatterplot, where the colors correspond to the two available classes: $\\color{blue}{blue}$ and $\\color{red}{red} $. Here is an example of such data : \n",
        "\n",
        "![Two moons](moons_example.png)\n",
        "\n",
        "\n",
        "\n",
        "## 1. Create data\n",
        "\n",
        "Here, we will use the scikit-learn `make_moons` function [(see documentation here)](https://scikit-learn.org/stable/modules/generated/sklearn.datasets.make_moons.html) to create 2 moons that cannot be linearly separated. Each moon correspond to a class."
      ]
    },
    {
      "cell_type": "code",
      "execution_count": 1,
      "metadata": {
        "id": "OSL9atDe5st9"
      },
      "outputs": [],
      "source": [
        "from sklearn.datasets import make_moons\n",
        "\n",
        "### Data generation\n",
        "X, y = make_moons(n_samples=300, noise=0.25, random_state=0)"
      ]
    },
    {
      "cell_type": "code",
      "execution_count": 2,
      "metadata": {
        "colab": {
          "base_uri": "https://localhost:8080/",
          "height": 279
        },
        "id": "1tN_Vkwl5st_",
        "outputId": "0f64ea05-d5e3-47dd-8dae-f3d941c32523"
      },
      "outputs": [
        {
          "output_type": "display_data",
          "data": {
            "image/png": "[encoded data removed]",
            "text/plain": [
              "<Figure size 432x288 with 1 Axes>"
            ]
          },
          "metadata": {
            "needs_background": "light"
          }
        }
      ],
      "source": [
        "### This function allows to plot the two moons\n",
        "import pandas as pd\n",
        "import matplotlib.pyplot as plt\n",
        "%matplotlib inline\n",
        "\n",
        "def plot_moons(X, y):\n",
        "    df = pd.DataFrame(dict(x1=X[:,0], x2=X[:,1], label=y))\n",
        "    colors = {0:'red', 1:'blue'}\n",
        "    fig, ax = plt.subplots()\n",
        "    grouped = df.groupby('label')\n",
        "\n",
        "    for key, group in grouped:\n",
        "        group.plot(ax=ax, kind='scatter', x='x1', y='x2', label=key, color=colors[key])\n",
        "    plt.show()\n",
        "\n",
        "plot_moons(X, y)"
      ]
    },
    {
      "cell_type": "markdown",
      "metadata": {
        "id": "qfpCwtIV5suA"
      },
      "source": [
        "❓  Play with the number of samples and the noise to discover the effects on the `moons dataset`, by plotting the moons for different values"
      ]
    },
    {
      "cell_type": "code",
      "execution_count": 25,
      "metadata": {
        "tags": [
          "challengify"
        ],
        "colab": {
          "base_uri": "https://localhost:8080/",
          "height": 279
        },
        "id": "fHnXh-7k5suA",
        "outputId": "0a32b516-e806-47da-8a67-9dd3f7503847"
      },
      "outputs": [
        {
          "output_type": "display_data",
          "data": {
            "image/png": "[encoded data removed]",
            "text/plain": [
              "<Figure size 432x288 with 1 Axes>"
            ]
          },
          "metadata": {
            "needs_background": "light"
          }
        }
      ],
      "source": [
        "X, y = make_moons(n_samples=250, noise=0.35, random_state=0)\n",
        "def plot_moons(X, y):\n",
        "    df = pd.DataFrame(dict(x1=X[:,0], x2=X[:,1], label=y))\n",
        "    colors = {0:'red', 1:'blue'}\n",
        "    fig, ax = plt.subplots()\n",
        "    grouped = df.groupby('label')\n",
        "\n",
        "    for key, group in grouped:\n",
        "        group.plot(ax=ax, kind='scatter', x='x1', y='x2', label=key, color=colors[key])\n",
        "    plt.show()\n",
        "\n",
        "plot_moons(X, y)"
      ]
    },
    {
      "cell_type": "markdown",
      "metadata": {
        "id": "PQWz85vC5suA"
      },
      "source": [
        "❓ Draw 250 samples of the data with a noise equal to 0.20 (random state being 0) and split the initial dataset into a train and test set (size: 70/30%)\n",
        "\n",
        "*Remark* : Please call the variables `X_train`, `y_train`, `X_test` and `y_test`"
      ]
    },
    {
      "cell_type": "code",
      "execution_count": 26,
      "metadata": {
        "tags": [
          "challengify"
        ],
        "id": "vAkHCZw75suB"
      },
      "outputs": [],
      "source": [
        "from sklearn.model_selection import train_test_split\n",
        "X, y = make_moons(n_samples=250, noise=0.2, random_state=0)\n",
        "X_train, X_test, y_train, y_test = train_test_split(X, y, test_size=0.3)\n"
      ]
    },
    {
      "cell_type": "code",
      "source": [
        "X.shape"
      ],
      "metadata": {
        "colab": {
          "base_uri": "https://localhost:8080/"
        },
        "id": "l_7wEI_m-u6k",
        "outputId": "d05e13d3-8f40-41ac-c99f-c11cf7ef660b"
      },
      "execution_count": 49,
      "outputs": [
        {
          "output_type": "execute_result",
          "data": {
            "text/plain": [
              "(250, 2)"
            ]
          },
          "metadata": {},
          "execution_count": 49
        }
      ]
    },
    {
      "cell_type": "markdown",
      "metadata": {
        "id": "UqSfrfr15suC"
      },
      "source": [
        "## 2. Simple model"
      ]
    },
    {
      "cell_type": "markdown",
      "metadata": {
        "id": "mL7Q6As45suD"
      },
      "source": [
        "You will now define your first neural network.\n",
        "The architecture of your model should have : \n",
        "- a first layer with 5 neurons, with a `relu` activation function and the correct input dimension\n",
        "- a output layer suited to your 2-class classification task.\n",
        "\n",
        "\n",
        "❓ Complete the next function with the previous architecture"
      ]
    },
    {
      "cell_type": "code",
      "execution_count": 51,
      "metadata": {
        "tags": [
          "challengify"
        ],
        "colab": {
          "base_uri": "https://localhost:8080/"
        },
        "id": "4ABpdr3u5suD",
        "outputId": "47f680e8-8fda-4055-f906-426df02f5800"
      },
      "outputs": [
        {
          "output_type": "stream",
          "name": "stdout",
          "text": [
            "Model: \"sequential_16\"\n",
            "_________________________________________________________________\n",
            " Layer (type)                Output Shape              Param #   \n",
            "=================================================================\n",
            " dense_44 (Dense)            (None, 5)                 15        \n",
            "                                                                 \n",
            " dense_45 (Dense)            (None, 1)                 6         \n",
            "                                                                 \n",
            "=================================================================\n",
            "Total params: 21\n",
            "Trainable params: 21\n",
            "Non-trainable params: 0\n",
            "_________________________________________________________________\n"
          ]
        }
      ],
      "source": [
        "from tensorflow.keras.models import Sequential\n",
        "from tensorflow.keras import layers\n",
        "\n",
        "# Model definition\n",
        "model = Sequential()\n",
        "model.add(layers.Dense(5, activation='relu', input_dim=2))\n",
        "model.add(layers.Dense(1, activation='sigmoid'))\n",
        "model.summary()"
      ]
    },
    {
      "cell_type": "code",
      "execution_count": 54,
      "metadata": {
        "id": "eovBML8t5suE"
      },
      "outputs": [],
      "source": [
        "def initialize_model():\n",
        "    model = Sequential()\n",
        "    model.add(layers.Dense(5, activation='relu', input_dim=2))\n",
        "    model.add(layers.Dense(1, activation='sigmoid'))\n",
        "    ### Model optimization : Optimizer, loss and metric    \n",
        "    model.compile(loss='binary_crossentropy', \n",
        "                  optimizer='adam', \n",
        "                  metrics=['accuracy'])\n",
        "    return model\n",
        "\n",
        "model = initialize_model()"
      ]
    },
    {
      "cell_type": "markdown",
      "metadata": {
        "id": "wQNcj35K5suE"
      },
      "source": [
        "❗ **Remark** ❗ Briefly speaking, the **`.compile()`** tells your algorithm how to optimize the weights of your network once it will be fit on real data. **`binary_crossentropy`** is the \"log-loss\" that you have already seen in Machine-Learning.\n",
        "\n",
        "❓ How many parameters does the model have?  \n",
        "Double check using the **`.summary()`** function which displays the stack of layers, the shape of the output after each layer, and the number of parameters of each layer. Use this function to check that you have 21 parameters i.e. weights in your model."
      ]
    },
    {
      "cell_type": "code",
      "execution_count": 55,
      "metadata": {
        "tags": [
          "challengify"
        ],
        "colab": {
          "base_uri": "https://localhost:8080/"
        },
        "id": "LBTTuDZ15suF",
        "outputId": "20b5ab4b-abfa-4b2d-99da-4d0a2d412ff7"
      },
      "outputs": [
        {
          "output_type": "stream",
          "name": "stdout",
          "text": [
            "Model: \"sequential_18\"\n",
            "_________________________________________________________________\n",
            " Layer (type)                Output Shape              Param #   \n",
            "=================================================================\n",
            " dense_48 (Dense)            (None, 5)                 15        \n",
            "                                                                 \n",
            " dense_49 (Dense)            (None, 1)                 6         \n",
            "                                                                 \n",
            "=================================================================\n",
            "Total params: 21\n",
            "Trainable params: 21\n",
            "Non-trainable params: 0\n",
            "_________________________________________________________________\n"
          ]
        }
      ],
      "source": [
        "model.summary()"
      ]
    },
    {
      "cell_type": "code",
      "source": [
        "model.  "
      ],
      "metadata": {
        "colab": {
          "base_uri": "https://localhost:8080/",
          "height": 168
        },
        "id": "w8HPkVFwAYcC",
        "outputId": "166c8531-9f55-4b0c-b1f3-ee3426ed2eb4"
      },
      "execution_count": 92,
      "outputs": [
        {
          "output_type": "error",
          "ename": "AttributeError",
          "evalue": "ignored",
          "traceback": [
            "\u001b[0;31m---------------------------------------------------------------------------\u001b[0m",
            "\u001b[0;31mAttributeError\u001b[0m                            Traceback (most recent call last)",
            "\u001b[0;32m<ipython-input-92-621cc5bba4db>\u001b[0m in \u001b[0;36m<module>\u001b[0;34m()\u001b[0m\n\u001b[0;32m----> 1\u001b[0;31m \u001b[0mmodel\u001b[0m\u001b[0;34m.\u001b[0m\u001b[0mmetrics_scores_\u001b[0m\u001b[0;34m\u001b[0m\u001b[0;34m\u001b[0m\u001b[0m\n\u001b[0m",
            "\u001b[0;31mAttributeError\u001b[0m: 'Sequential' object has no attribute 'metrics_scores_'"
          ]
        }
      ]
    },
    {
      "cell_type": "markdown",
      "metadata": {
        "id": "fsotqDWn5suF"
      },
      "source": [
        "You are now ready to train your algorithm on the training set:"
      ]
    },
    {
      "cell_type": "code",
      "execution_count": 72,
      "metadata": {
        "id": "QbvZf7PT5suF"
      },
      "outputs": [],
      "source": [
        "model = initialize_model()\n",
        "\n",
        "history = model.fit(X_train, y_train, \n",
        "                    epochs=100,\n",
        "                    batch_size=8,\n",
        "                    verbose=0) "
      ]
    },
    {
      "cell_type": "markdown",
      "metadata": {
        "id": "NKPDaTt35suG"
      },
      "source": [
        "### Fit history"
      ]
    },
    {
      "cell_type": "markdown",
      "metadata": {
        "id": "3No1-8eK5suG"
      },
      "source": [
        "`history` contains information about the training.\n",
        "\n",
        "❓ Inspect all its attributes using `history.__dict__`. You will see epoch-by-epoch info stored in `history.history`"
      ]
    },
    {
      "cell_type": "code",
      "execution_count": 73,
      "metadata": {
        "colab": {
          "base_uri": "https://localhost:8080/"
        },
        "id": "n2wBwxtD5suG",
        "outputId": "708b51cc-ecd1-4a9a-fbbe-9698a812dd5c"
      },
      "outputs": [
        {
          "output_type": "execute_result",
          "data": {
            "text/plain": [
              "{'_chief_worker_only': None,\n",
              " '_supports_tf_logs': False,\n",
              " 'epoch': [0,\n",
              "  1,\n",
              "  2,\n",
              "  3,\n",
              "  4,\n",
              "  5,\n",
              "  6,\n",
              "  7,\n",
              "  8,\n",
              "  9,\n",
              "  10,\n",
              "  11,\n",
              "  12,\n",
              "  13,\n",
              "  14,\n",
              "  15,\n",
              "  16,\n",
              "  17,\n",
              "  18,\n",
              "  19,\n",
              "  20,\n",
              "  21,\n",
              "  22,\n",
              "  23,\n",
              "  24,\n",
              "  25,\n",
              "  26,\n",
              "  27,\n",
              "  28,\n",
              "  29,\n",
              "  30,\n",
              "  31,\n",
              "  32,\n",
              "  33,\n",
              "  34,\n",
              "  35,\n",
              "  36,\n",
              "  37,\n",
              "  38,\n",
              "  39,\n",
              "  40,\n",
              "  41,\n",
              "  42,\n",
              "  43,\n",
              "  44,\n",
              "  45,\n",
              "  46,\n",
              "  47,\n",
              "  48,\n",
              "  49,\n",
              "  50,\n",
              "  51,\n",
              "  52,\n",
              "  53,\n",
              "  54,\n",
              "  55,\n",
              "  56,\n",
              "  57,\n",
              "  58,\n",
              "  59,\n",
              "  60,\n",
              "  61,\n",
              "  62,\n",
              "  63,\n",
              "  64,\n",
              "  65,\n",
              "  66,\n",
              "  67,\n",
              "  68,\n",
              "  69,\n",
              "  70,\n",
              "  71,\n",
              "  72,\n",
              "  73,\n",
              "  74,\n",
              "  75,\n",
              "  76,\n",
              "  77,\n",
              "  78,\n",
              "  79,\n",
              "  80,\n",
              "  81,\n",
              "  82,\n",
              "  83,\n",
              "  84,\n",
              "  85,\n",
              "  86,\n",
              "  87,\n",
              "  88,\n",
              "  89,\n",
              "  90,\n",
              "  91,\n",
              "  92,\n",
              "  93,\n",
              "  94,\n",
              "  95,\n",
              "  96,\n",
              "  97,\n",
              "  98,\n",
              "  99],\n",
              " 'history': {'accuracy': [0.8057143092155457,\n",
              "   0.8114285469055176,\n",
              "   0.8114285469055176,\n",
              "   0.800000011920929,\n",
              "   0.800000011920929,\n",
              "   0.800000011920929,\n",
              "   0.7942857146263123,\n",
              "   0.800000011920929,\n",
              "   0.800000011920929,\n",
              "   0.8114285469055176,\n",
              "   0.8114285469055176,\n",
              "   0.8171428442001343,\n",
              "   0.8114285469055176,\n",
              "   0.8171428442001343,\n",
              "   0.8171428442001343,\n",
              "   0.822857141494751,\n",
              "   0.822857141494751,\n",
              "   0.822857141494751,\n",
              "   0.822857141494751,\n",
              "   0.822857141494751,\n",
              "   0.822857141494751,\n",
              "   0.822857141494751,\n",
              "   0.822857141494751,\n",
              "   0.822857141494751,\n",
              "   0.822857141494751,\n",
              "   0.8285714387893677,\n",
              "   0.8285714387893677,\n",
              "   0.8285714387893677,\n",
              "   0.8285714387893677,\n",
              "   0.8285714387893677,\n",
              "   0.8342857360839844,\n",
              "   0.8342857360839844,\n",
              "   0.8399999737739563,\n",
              "   0.8399999737739563,\n",
              "   0.8399999737739563,\n",
              "   0.8399999737739563,\n",
              "   0.8399999737739563,\n",
              "   0.8399999737739563,\n",
              "   0.8399999737739563,\n",
              "   0.8399999737739563,\n",
              "   0.8399999737739563,\n",
              "   0.8399999737739563,\n",
              "   0.8399999737739563,\n",
              "   0.8399999737739563,\n",
              "   0.845714271068573,\n",
              "   0.8399999737739563,\n",
              "   0.8399999737739563,\n",
              "   0.845714271068573,\n",
              "   0.845714271068573,\n",
              "   0.8514285683631897,\n",
              "   0.8514285683631897,\n",
              "   0.8571428656578064,\n",
              "   0.8514285683631897,\n",
              "   0.8514285683631897,\n",
              "   0.8514285683631897,\n",
              "   0.8514285683631897,\n",
              "   0.8571428656578064,\n",
              "   0.8628571629524231,\n",
              "   0.8571428656578064,\n",
              "   0.8571428656578064,\n",
              "   0.8628571629524231,\n",
              "   0.8571428656578064,\n",
              "   0.8571428656578064,\n",
              "   0.8571428656578064,\n",
              "   0.8571428656578064,\n",
              "   0.8571428656578064,\n",
              "   0.8571428656578064,\n",
              "   0.8571428656578064,\n",
              "   0.8571428656578064,\n",
              "   0.8628571629524231,\n",
              "   0.8571428656578064,\n",
              "   0.8571428656578064,\n",
              "   0.8571428656578064,\n",
              "   0.8571428656578064,\n",
              "   0.8571428656578064,\n",
              "   0.8571428656578064,\n",
              "   0.8571428656578064,\n",
              "   0.8571428656578064,\n",
              "   0.8571428656578064,\n",
              "   0.8628571629524231,\n",
              "   0.868571400642395,\n",
              "   0.8628571629524231,\n",
              "   0.868571400642395,\n",
              "   0.868571400642395,\n",
              "   0.868571400642395,\n",
              "   0.868571400642395,\n",
              "   0.868571400642395,\n",
              "   0.868571400642395,\n",
              "   0.8628571629524231,\n",
              "   0.8628571629524231,\n",
              "   0.8628571629524231,\n",
              "   0.8628571629524231,\n",
              "   0.8628571629524231,\n",
              "   0.8628571629524231,\n",
              "   0.8628571629524231,\n",
              "   0.8628571629524231,\n",
              "   0.868571400642395,\n",
              "   0.8742856979370117,\n",
              "   0.8742856979370117,\n",
              "   0.8742856979370117],\n",
              "  'loss': [0.6326707601547241,\n",
              "   0.6169693470001221,\n",
              "   0.6032373309135437,\n",
              "   0.5895096063613892,\n",
              "   0.5742307901382446,\n",
              "   0.5572670698165894,\n",
              "   0.539216160774231,\n",
              "   0.5220786333084106,\n",
              "   0.5063900947570801,\n",
              "   0.49046897888183594,\n",
              "   0.4758388102054596,\n",
              "   0.4627454876899719,\n",
              "   0.450592041015625,\n",
              "   0.4400585889816284,\n",
              "   0.43077418208122253,\n",
              "   0.42192575335502625,\n",
              "   0.41376420855522156,\n",
              "   0.4066159129142761,\n",
              "   0.3995985984802246,\n",
              "   0.3932558000087738,\n",
              "   0.3872000575065613,\n",
              "   0.38179489970207214,\n",
              "   0.37627071142196655,\n",
              "   0.3715982437133789,\n",
              "   0.36719080805778503,\n",
              "   0.3626881539821625,\n",
              "   0.3585677742958069,\n",
              "   0.35478276014328003,\n",
              "   0.35112765431404114,\n",
              "   0.34786179661750793,\n",
              "   0.34445396065711975,\n",
              "   0.34160131216049194,\n",
              "   0.33867838978767395,\n",
              "   0.3359944522380829,\n",
              "   0.33311983942985535,\n",
              "   0.33071595430374146,\n",
              "   0.3285781741142273,\n",
              "   0.325753778219223,\n",
              "   0.3237241208553314,\n",
              "   0.3214610815048218,\n",
              "   0.31970927119255066,\n",
              "   0.3173893094062805,\n",
              "   0.31566759943962097,\n",
              "   0.31363070011138916,\n",
              "   0.3126390874385834,\n",
              "   0.31016090512275696,\n",
              "   0.30900081992149353,\n",
              "   0.3072958290576935,\n",
              "   0.3059037923812866,\n",
              "   0.3042733669281006,\n",
              "   0.3031481206417084,\n",
              "   0.30170056223869324,\n",
              "   0.3008110225200653,\n",
              "   0.29964324831962585,\n",
              "   0.2978879511356354,\n",
              "   0.29680711030960083,\n",
              "   0.29562515020370483,\n",
              "   0.29450520873069763,\n",
              "   0.2935202419757843,\n",
              "   0.29276514053344727,\n",
              "   0.29173025488853455,\n",
              "   0.29104581475257874,\n",
              "   0.28981027007102966,\n",
              "   0.28910064697265625,\n",
              "   0.28807681798934937,\n",
              "   0.28736361861228943,\n",
              "   0.28655382990837097,\n",
              "   0.2859641909599304,\n",
              "   0.2852023243904114,\n",
              "   0.2847044765949249,\n",
              "   0.28390368819236755,\n",
              "   0.2833942770957947,\n",
              "   0.2825023829936981,\n",
              "   0.2821754515171051,\n",
              "   0.2811920940876007,\n",
              "   0.2806762158870697,\n",
              "   0.28019246459007263,\n",
              "   0.2794720530509949,\n",
              "   0.27904361486434937,\n",
              "   0.2788533568382263,\n",
              "   0.27814212441444397,\n",
              "   0.27754589915275574,\n",
              "   0.276876300573349,\n",
              "   0.27640286087989807,\n",
              "   0.27603331208229065,\n",
              "   0.27561694383621216,\n",
              "   0.275519460439682,\n",
              "   0.27465471625328064,\n",
              "   0.2741469442844391,\n",
              "   0.2736626863479614,\n",
              "   0.2734334468841553,\n",
              "   0.2732413709163666,\n",
              "   0.27257975935935974,\n",
              "   0.2724350690841675,\n",
              "   0.2718980312347412,\n",
              "   0.27174338698387146,\n",
              "   0.2711545526981354,\n",
              "   0.27133557200431824,\n",
              "   0.27050313353538513,\n",
              "   0.2705115079879761]},\n",
              " 'model': <keras.engine.sequential.Sequential at 0x7fa9a0373050>,\n",
              " 'params': {'epochs': 100, 'steps': 22, 'verbose': 0},\n",
              " 'validation_data': None}"
            ]
          },
          "metadata": {},
          "execution_count": 73
        }
      ],
      "source": [
        "history.__dict__"
      ]
    },
    {
      "cell_type": "code",
      "source": [
        "history.history"
      ],
      "metadata": {
        "colab": {
          "base_uri": "https://localhost:8080/"
        },
        "id": "l7cHe0DU_o57",
        "outputId": "bf06cea2-30cb-4bc7-f05d-8ef80d141010"
      },
      "execution_count": 74,
      "outputs": [
        {
          "output_type": "execute_result",
          "data": {
            "text/plain": [
              "{'accuracy': [0.8057143092155457,\n",
              "  0.8114285469055176,\n",
              "  0.8114285469055176,\n",
              "  0.800000011920929,\n",
              "  0.800000011920929,\n",
              "  0.800000011920929,\n",
              "  0.7942857146263123,\n",
              "  0.800000011920929,\n",
              "  0.800000011920929,\n",
              "  0.8114285469055176,\n",
              "  0.8114285469055176,\n",
              "  0.8171428442001343,\n",
              "  0.8114285469055176,\n",
              "  0.8171428442001343,\n",
              "  0.8171428442001343,\n",
              "  0.822857141494751,\n",
              "  0.822857141494751,\n",
              "  0.822857141494751,\n",
              "  0.822857141494751,\n",
              "  0.822857141494751,\n",
              "  0.822857141494751,\n",
              "  0.822857141494751,\n",
              "  0.822857141494751,\n",
              "  0.822857141494751,\n",
              "  0.822857141494751,\n",
              "  0.8285714387893677,\n",
              "  0.8285714387893677,\n",
              "  0.8285714387893677,\n",
              "  0.8285714387893677,\n",
              "  0.8285714387893677,\n",
              "  0.8342857360839844,\n",
              "  0.8342857360839844,\n",
              "  0.8399999737739563,\n",
              "  0.8399999737739563,\n",
              "  0.8399999737739563,\n",
              "  0.8399999737739563,\n",
              "  0.8399999737739563,\n",
              "  0.8399999737739563,\n",
              "  0.8399999737739563,\n",
              "  0.8399999737739563,\n",
              "  0.8399999737739563,\n",
              "  0.8399999737739563,\n",
              "  0.8399999737739563,\n",
              "  0.8399999737739563,\n",
              "  0.845714271068573,\n",
              "  0.8399999737739563,\n",
              "  0.8399999737739563,\n",
              "  0.845714271068573,\n",
              "  0.845714271068573,\n",
              "  0.8514285683631897,\n",
              "  0.8514285683631897,\n",
              "  0.8571428656578064,\n",
              "  0.8514285683631897,\n",
              "  0.8514285683631897,\n",
              "  0.8514285683631897,\n",
              "  0.8514285683631897,\n",
              "  0.8571428656578064,\n",
              "  0.8628571629524231,\n",
              "  0.8571428656578064,\n",
              "  0.8571428656578064,\n",
              "  0.8628571629524231,\n",
              "  0.8571428656578064,\n",
              "  0.8571428656578064,\n",
              "  0.8571428656578064,\n",
              "  0.8571428656578064,\n",
              "  0.8571428656578064,\n",
              "  0.8571428656578064,\n",
              "  0.8571428656578064,\n",
              "  0.8571428656578064,\n",
              "  0.8628571629524231,\n",
              "  0.8571428656578064,\n",
              "  0.8571428656578064,\n",
              "  0.8571428656578064,\n",
              "  0.8571428656578064,\n",
              "  0.8571428656578064,\n",
              "  0.8571428656578064,\n",
              "  0.8571428656578064,\n",
              "  0.8571428656578064,\n",
              "  0.8571428656578064,\n",
              "  0.8628571629524231,\n",
              "  0.868571400642395,\n",
              "  0.8628571629524231,\n",
              "  0.868571400642395,\n",
              "  0.868571400642395,\n",
              "  0.868571400642395,\n",
              "  0.868571400642395,\n",
              "  0.868571400642395,\n",
              "  0.868571400642395,\n",
              "  0.8628571629524231,\n",
              "  0.8628571629524231,\n",
              "  0.8628571629524231,\n",
              "  0.8628571629524231,\n",
              "  0.8628571629524231,\n",
              "  0.8628571629524231,\n",
              "  0.8628571629524231,\n",
              "  0.8628571629524231,\n",
              "  0.868571400642395,\n",
              "  0.8742856979370117,\n",
              "  0.8742856979370117,\n",
              "  0.8742856979370117],\n",
              " 'loss': [0.6326707601547241,\n",
              "  0.6169693470001221,\n",
              "  0.6032373309135437,\n",
              "  0.5895096063613892,\n",
              "  0.5742307901382446,\n",
              "  0.5572670698165894,\n",
              "  0.539216160774231,\n",
              "  0.5220786333084106,\n",
              "  0.5063900947570801,\n",
              "  0.49046897888183594,\n",
              "  0.4758388102054596,\n",
              "  0.4627454876899719,\n",
              "  0.450592041015625,\n",
              "  0.4400585889816284,\n",
              "  0.43077418208122253,\n",
              "  0.42192575335502625,\n",
              "  0.41376420855522156,\n",
              "  0.4066159129142761,\n",
              "  0.3995985984802246,\n",
              "  0.3932558000087738,\n",
              "  0.3872000575065613,\n",
              "  0.38179489970207214,\n",
              "  0.37627071142196655,\n",
              "  0.3715982437133789,\n",
              "  0.36719080805778503,\n",
              "  0.3626881539821625,\n",
              "  0.3585677742958069,\n",
              "  0.35478276014328003,\n",
              "  0.35112765431404114,\n",
              "  0.34786179661750793,\n",
              "  0.34445396065711975,\n",
              "  0.34160131216049194,\n",
              "  0.33867838978767395,\n",
              "  0.3359944522380829,\n",
              "  0.33311983942985535,\n",
              "  0.33071595430374146,\n",
              "  0.3285781741142273,\n",
              "  0.325753778219223,\n",
              "  0.3237241208553314,\n",
              "  0.3214610815048218,\n",
              "  0.31970927119255066,\n",
              "  0.3173893094062805,\n",
              "  0.31566759943962097,\n",
              "  0.31363070011138916,\n",
              "  0.3126390874385834,\n",
              "  0.31016090512275696,\n",
              "  0.30900081992149353,\n",
              "  0.3072958290576935,\n",
              "  0.3059037923812866,\n",
              "  0.3042733669281006,\n",
              "  0.3031481206417084,\n",
              "  0.30170056223869324,\n",
              "  0.3008110225200653,\n",
              "  0.29964324831962585,\n",
              "  0.2978879511356354,\n",
              "  0.29680711030960083,\n",
              "  0.29562515020370483,\n",
              "  0.29450520873069763,\n",
              "  0.2935202419757843,\n",
              "  0.29276514053344727,\n",
              "  0.29173025488853455,\n",
              "  0.29104581475257874,\n",
              "  0.28981027007102966,\n",
              "  0.28910064697265625,\n",
              "  0.28807681798934937,\n",
              "  0.28736361861228943,\n",
              "  0.28655382990837097,\n",
              "  0.2859641909599304,\n",
              "  0.2852023243904114,\n",
              "  0.2847044765949249,\n",
              "  0.28390368819236755,\n",
              "  0.2833942770957947,\n",
              "  0.2825023829936981,\n",
              "  0.2821754515171051,\n",
              "  0.2811920940876007,\n",
              "  0.2806762158870697,\n",
              "  0.28019246459007263,\n",
              "  0.2794720530509949,\n",
              "  0.27904361486434937,\n",
              "  0.2788533568382263,\n",
              "  0.27814212441444397,\n",
              "  0.27754589915275574,\n",
              "  0.276876300573349,\n",
              "  0.27640286087989807,\n",
              "  0.27603331208229065,\n",
              "  0.27561694383621216,\n",
              "  0.275519460439682,\n",
              "  0.27465471625328064,\n",
              "  0.2741469442844391,\n",
              "  0.2736626863479614,\n",
              "  0.2734334468841553,\n",
              "  0.2732413709163666,\n",
              "  0.27257975935935974,\n",
              "  0.2724350690841675,\n",
              "  0.2718980312347412,\n",
              "  0.27174338698387146,\n",
              "  0.2711545526981354,\n",
              "  0.27133557200431824,\n",
              "  0.27050313353538513,\n",
              "  0.2705115079879761]}"
            ]
          },
          "metadata": {},
          "execution_count": 74
        }
      ]
    },
    {
      "cell_type": "markdown",
      "metadata": {
        "id": "Y5O8kcib5suG"
      },
      "source": [
        "❓ Plot the history of the train loss using the following function"
      ]
    },
    {
      "cell_type": "code",
      "execution_count": 62,
      "metadata": {
        "id": "EgJrPQwE5suH"
      },
      "outputs": [],
      "source": [
        "def plot_history(history):\n",
        "    plt.plot(history.history['loss'])\n",
        "    plt.title('Train loss')\n",
        "    plt.ylabel('Loss')\n",
        "    plt.xlabel('Epoch')\n",
        "    plt.show()"
      ]
    },
    {
      "cell_type": "code",
      "execution_count": 75,
      "metadata": {
        "tags": [
          "challengify"
        ],
        "colab": {
          "base_uri": "https://localhost:8080/",
          "height": 295
        },
        "id": "FwHquDjq5suH",
        "outputId": "47f2b41a-709b-41c8-f31c-c8d080dbf1ea"
      },
      "outputs": [
        {
          "output_type": "display_data",
          "data": {
            "image/png": "[encoded data removed]",
            "text/plain": [
              "<Figure size 432x288 with 1 Axes>"
            ]
          },
          "metadata": {
            "needs_background": "light"
          }
        }
      ],
      "source": [
        "plot_history(history)"
      ]
    },
    {
      "cell_type": "markdown",
      "metadata": {
        "id": "kVUt0LoH5suH"
      },
      "source": [
        "### Predict & Evaluate performance on test set"
      ]
    },
    {
      "cell_type": "markdown",
      "metadata": {
        "id": "K0cMvyqX5suH"
      },
      "source": [
        "You can predict `y_pred` using the **`.predict()`** method."
      ]
    },
    {
      "cell_type": "code",
      "execution_count": 70,
      "metadata": {
        "id": "Tpa9kP_65suI"
      },
      "outputs": [],
      "source": [
        "y_pred = model.predict(X_test)"
      ]
    },
    {
      "cell_type": "markdown",
      "metadata": {
        "id": "4xrQyBS75suI"
      },
      "source": [
        "You can use the **`.evaluate()`** method to return the **`loss value`** &  and the **`performance metrics`**"
      ]
    },
    {
      "cell_type": "code",
      "execution_count": 71,
      "metadata": {
        "colab": {
          "base_uri": "https://localhost:8080/"
        },
        "id": "dxgT1-QL5suI",
        "outputId": "af21a9a3-6b67-49b0-c6f7-af9a949eea89"
      },
      "outputs": [
        {
          "output_type": "execute_result",
          "data": {
            "text/plain": [
              "[0.26855090260505676, 0.8799999952316284]"
            ]
          },
          "metadata": {},
          "execution_count": 71
        }
      ],
      "source": [
        "model.evaluate(X_test, y_test, verbose=0)"
      ]
    },
    {
      "cell_type": "markdown",
      "metadata": {
        "id": "9T0j2utk5suI"
      },
      "source": [
        "- The first element corresponds to the **loss** value, set to `\"binary_crossentropy\"` in `model.compile()`. Its value is hard to interpret.\n",
        "\n",
        "- The second element is the **metrics**, that we set to `\"accuracy\"`"
      ]
    },
    {
      "cell_type": "markdown",
      "metadata": {
        "id": "TXq9FUy95suI"
      },
      "source": [
        "❓ What is your accuracy on the test test? Store the value as a `float` in the `accuracy` variable."
      ]
    },
    {
      "cell_type": "code",
      "execution_count": 93,
      "metadata": {
        "tags": [
          "challengify"
        ],
        "id": "v9ha-sNB5suI"
      },
      "outputs": [],
      "source": [
        "accuracy = 0.8742856979370117"
      ]
    },
    {
      "cell_type": "markdown",
      "metadata": {
        "id": "FWFYk5n85suJ"
      },
      "source": [
        "❓ Check your prediction visually by using our `plot_decision_regions` available in `utils/plots.py`. It looks a bit underfitted, right? We will create a deeper network next!"
      ]
    },
    {
      "cell_type": "code",
      "execution_count": 97,
      "metadata": {
        "colab": {
          "base_uri": "https://localhost:8080/",
          "height": 338
        },
        "id": "F9MrQjAK5suJ",
        "outputId": "00f614fd-3d95-418f-afa3-98ca55b22e03"
      },
      "outputs": [
        {
          "output_type": "stream",
          "name": "stderr",
          "text": [
            "/usr/local/lib/python3.7/dist-packages/mlxtend/plotting/decision_regions.py:244: MatplotlibDeprecationWarning: Passing unsupported keyword arguments to axis() will raise a TypeError in 3.3.\n",
            "  ax.axis(xmin=xx.min(), xmax=xx.max(), y_min=yy.min(), y_max=yy.max())\n"
          ]
        },
        {
          "output_type": "execute_result",
          "data": {
            "text/plain": [
              "<matplotlib.axes._subplots.AxesSubplot at 0x7fa9a5c96e50>"
            ]
          },
          "metadata": {},
          "execution_count": 97
        },
        {
          "output_type": "display_data",
          "data": {
            "image/png": "[encoded data removed]",
            "text/plain": [
              "<Figure size 432x288 with 1 Axes>"
            ]
          },
          "metadata": {
            "needs_background": "light"
          }
        }
      ],
      "source": [
        "from mlxtend.plotting import plot_decision_regions\n",
        "plot_decision_regions(X,y, model)"
      ]
    },
    {
      "cell_type": "markdown",
      "metadata": {
        "id": "xzZPUwlh5suJ"
      },
      "source": [
        "🧪 Test your code"
      ]
    },
    {
      "cell_type": "code",
      "source": [
        "! pip install nbresult"
      ],
      "metadata": {
        "colab": {
          "base_uri": "https://localhost:8080/"
        },
        "id": "TOghlQOwCjeO",
        "outputId": "7daaaff3-140c-41eb-941d-5ca58d086ad8"
      },
      "execution_count": 98,
      "outputs": [
        {
          "output_type": "stream",
          "name": "stdout",
          "text": [
            "Collecting nbresult\n",
            "  Downloading nbresult-0.0.4.tar.gz (707 kB)\n",
            "\u001b[?25l\r\u001b[K     |▌                               | 10 kB 24.6 MB/s eta 0:00:01\r\u001b[K     |█                               | 20 kB 14.8 MB/s eta 0:00:01\r\u001b[K     |█▍                              | 30 kB 10.5 MB/s eta 0:00:01\r\u001b[K     |█▉                              | 40 kB 4.3 MB/s eta 0:00:01\r\u001b[K     |██▎                             | 51 kB 4.5 MB/s eta 0:00:01\r\u001b[K     |██▉                             | 61 kB 5.3 MB/s eta 0:00:01\r\u001b[K     |███▎                            | 71 kB 5.9 MB/s eta 0:00:01\r\u001b[K     |███▊                            | 81 kB 5.5 MB/s eta 0:00:01\r\u001b[K     |████▏                           | 92 kB 6.1 MB/s eta 0:00:01\r\u001b[K     |████▋                           | 102 kB 5.0 MB/s eta 0:00:01\r\u001b[K     |█████                           | 112 kB 5.0 MB/s eta 0:00:01\r\u001b[K     |█████▋                          | 122 kB 5.0 MB/s eta 0:00:01\r\u001b[K     |██████                          | 133 kB 5.0 MB/s eta 0:00:01\r\u001b[K     |██████▌                         | 143 kB 5.0 MB/s eta 0:00:01\r\u001b[K     |███████                         | 153 kB 5.0 MB/s eta 0:00:01\r\u001b[K     |███████▍                        | 163 kB 5.0 MB/s eta 0:00:01\r\u001b[K     |███████▉                        | 174 kB 5.0 MB/s eta 0:00:01\r\u001b[K     |████████▍                       | 184 kB 5.0 MB/s eta 0:00:01\r\u001b[K     |████████▉                       | 194 kB 5.0 MB/s eta 0:00:01\r\u001b[K     |█████████▎                      | 204 kB 5.0 MB/s eta 0:00:01\r\u001b[K     |█████████▊                      | 215 kB 5.0 MB/s eta 0:00:01\r\u001b[K     |██████████▏                     | 225 kB 5.0 MB/s eta 0:00:01\r\u001b[K     |██████████▋                     | 235 kB 5.0 MB/s eta 0:00:01\r\u001b[K     |███████████▏                    | 245 kB 5.0 MB/s eta 0:00:01\r\u001b[K     |███████████▋                    | 256 kB 5.0 MB/s eta 0:00:01\r\u001b[K     |████████████                    | 266 kB 5.0 MB/s eta 0:00:01\r\u001b[K     |████████████▌                   | 276 kB 5.0 MB/s eta 0:00:01\r\u001b[K     |█████████████                   | 286 kB 5.0 MB/s eta 0:00:01\r\u001b[K     |█████████████▍                  | 296 kB 5.0 MB/s eta 0:00:01\r\u001b[K     |██████████████                  | 307 kB 5.0 MB/s eta 0:00:01\r\u001b[K     |██████████████▍                 | 317 kB 5.0 MB/s eta 0:00:01\r\u001b[K     |██████████████▉                 | 327 kB 5.0 MB/s eta 0:00:01\r\u001b[K     |███████████████▎                | 337 kB 5.0 MB/s eta 0:00:01\r\u001b[K     |███████████████▊                | 348 kB 5.0 MB/s eta 0:00:01\r\u001b[K     |████████████████▏               | 358 kB 5.0 MB/s eta 0:00:01\r\u001b[K     |████████████████▊               | 368 kB 5.0 MB/s eta 0:00:01\r\u001b[K     |█████████████████▏              | 378 kB 5.0 MB/s eta 0:00:01\r\u001b[K     |█████████████████▋              | 389 kB 5.0 MB/s eta 0:00:01\r\u001b[K     |██████████████████              | 399 kB 5.0 MB/s eta 0:00:01\r\u001b[K     |██████████████████▌             | 409 kB 5.0 MB/s eta 0:00:01\r\u001b[K     |███████████████████             | 419 kB 5.0 MB/s eta 0:00:01\r\u001b[K     |███████████████████▌            | 430 kB 5.0 MB/s eta 0:00:01\r\u001b[K     |████████████████████            | 440 kB 5.0 MB/s eta 0:00:01\r\u001b[K     |████████████████████▍           | 450 kB 5.0 MB/s eta 0:00:01\r\u001b[K     |████████████████████▉           | 460 kB 5.0 MB/s eta 0:00:01\r\u001b[K     |█████████████████████▎          | 471 kB 5.0 MB/s eta 0:00:01\r\u001b[K     |█████████████████████▊          | 481 kB 5.0 MB/s eta 0:00:01\r\u001b[K     |██████████████████████▎         | 491 kB 5.0 MB/s eta 0:00:01\r\u001b[K     |██████████████████████▊         | 501 kB 5.0 MB/s eta 0:00:01\r\u001b[K     |███████████████████████▏        | 512 kB 5.0 MB/s eta 0:00:01\r\u001b[K     |███████████████████████▋        | 522 kB 5.0 MB/s eta 0:00:01\r\u001b[K     |████████████████████████        | 532 kB 5.0 MB/s eta 0:00:01\r\u001b[K     |████████████████████████▌       | 542 kB 5.0 MB/s eta 0:00:01\r\u001b[K     |█████████████████████████       | 552 kB 5.0 MB/s eta 0:00:01\r\u001b[K     |█████████████████████████▌      | 563 kB 5.0 MB/s eta 0:00:01\r\u001b[K     |██████████████████████████      | 573 kB 5.0 MB/s eta 0:00:01\r\u001b[K     |██████████████████████████▍     | 583 kB 5.0 MB/s eta 0:00:01\r\u001b[K     |██████████████████████████▉     | 593 kB 5.0 MB/s eta 0:00:01\r\u001b[K     |███████████████████████████▎    | 604 kB 5.0 MB/s eta 0:00:01\r\u001b[K     |███████████████████████████▉    | 614 kB 5.0 MB/s eta 0:00:01\r\u001b[K     |████████████████████████████▎   | 624 kB 5.0 MB/s eta 0:00:01\r\u001b[K     |████████████████████████████▊   | 634 kB 5.0 MB/s eta 0:00:01\r\u001b[K     |█████████████████████████████▏  | 645 kB 5.0 MB/s eta 0:00:01\r\u001b[K     |█████████████████████████████▋  | 655 kB 5.0 MB/s eta 0:00:01\r\u001b[K     |██████████████████████████████  | 665 kB 5.0 MB/s eta 0:00:01\r\u001b[K     |██████████████████████████████▋ | 675 kB 5.0 MB/s eta 0:00:01\r\u001b[K     |███████████████████████████████ | 686 kB 5.0 MB/s eta 0:00:01\r\u001b[K     |███████████████████████████████▌| 696 kB 5.0 MB/s eta 0:00:01\r\u001b[K     |████████████████████████████████| 706 kB 5.0 MB/s eta 0:00:01\r\u001b[K     |████████████████████████████████| 707 kB 5.0 MB/s \n",
            "\u001b[?25hBuilding wheels for collected packages: nbresult\n",
            "  Building wheel for nbresult (setup.py) ... \u001b[?25l\u001b[?25hdone\n",
            "  Created wheel for nbresult: filename=nbresult-0.0.4-py3-none-any.whl size=3618 sha256=fe967677d0df878303fccec149d839fbdaeb2518307e9a0e49ddb45736ce0388\n",
            "  Stored in directory: /root/.cache/pip/wheels/3f/87/3b/11517c0de94079094a0b8b24c7416a113fa9a55b89f8bd38d7\n",
            "Successfully built nbresult\n",
            "Installing collected packages: nbresult\n",
            "Successfully installed nbresult-0.0.4\n"
          ]
        }
      ]
    },
    {
      "cell_type": "code",
      "source": [
        ""
      ],
      "metadata": {
        "id": "si-XD5PqC1BI"
      },
      "execution_count": null,
      "outputs": []
    },
    {
      "cell_type": "code",
      "source": [
        "ls /content/\n"
      ],
      "metadata": {
        "colab": {
          "base_uri": "https://localhost:8080/"
        },
        "id": "EUXS5PJ0CkfD",
        "outputId": "3a064e91-2177-4bd8-ee60-656da93bc827"
      },
      "execution_count": 100,
      "outputs": [
        {
          "output_type": "stream",
          "name": "stdout",
          "text": [
            "\u001b[0m\u001b[01;34msample_data\u001b[0m/  \u001b[01;34mtests\u001b[0m/\n"
          ]
        }
      ]
    },
    {
      "cell_type": "code",
      "execution_count": 101,
      "metadata": {
        "colab": {
          "base_uri": "https://localhost:8080/"
        },
        "id": "LOV2ZTSo5suJ",
        "outputId": "a8392be5-e49e-4258-c575-a03d3f23c32d"
      },
      "outputs": [
        {
          "output_type": "stream",
          "name": "stdout",
          "text": [
            "\u001b[1m============================= test session starts ==============================\u001b[0m\n",
            "platform linux -- Python 3.7.12, pytest-3.6.4, py-1.11.0, pluggy-0.7.1 -- /usr/bin/python3\n",
            "cachedir: .pytest_cache\n",
            "rootdir: /content, inifile:\n",
            "plugins: typeguard-2.7.1\n",
            "\u001b[1mcollecting ... \u001b[0mcollected 1 item\n",
            "\n",
            "tests/test_first_model.py::TestFirstModel::test_accuracy \u001b[32mPASSED\u001b[0m\u001b[36m          [100%]\u001b[0m\n",
            "\n",
            "\u001b[32m\u001b[1m=========================== 1 passed in 0.02 seconds ===========================\u001b[0m\n",
            "\n",
            "\n",
            "💯 You can commit your code:\n",
            "\n",
            "\u001b[1;32mgit\u001b[39m add tests/first_model.pickle\n",
            "\n",
            "\u001b[32mgit\u001b[39m commit -m \u001b[33m'Completed first_model step'\u001b[39m\n",
            "\n",
            "\u001b[32mgit\u001b[39m push origin master\n"
          ]
        }
      ],
      "source": [
        "from nbresult import ChallengeResult\n",
        "result = ChallengeResult('first_model', accuracy=accuracy)\n",
        "result.write()\n",
        "print(result.check())"
      ]
    },
    {
      "cell_type": "code",
      "source": [
        "!git add tests/first_model.pickle\n",
        "\n",
        "!git commit -m 'Completed first_model step'\n",
        "\n",
        "!git push origin master"
      ],
      "metadata": {
        "colab": {
          "base_uri": "https://localhost:8080/"
        },
        "id": "nqCGsW3XFtQr",
        "outputId": "18a37dbf-99b3-4365-ca29-d70afb8e531c"
      },
      "execution_count": 102,
      "outputs": [
        {
          "output_type": "stream",
          "name": "stdout",
          "text": [
            "fatal: not a git repository (or any of the parent directories): .git\n",
            "fatal: not a git repository (or any of the parent directories): .git\n",
            "fatal: not a git repository (or any of the parent directories): .git\n"
          ]
        }
      ]
    },
    {
      "cell_type": "markdown",
      "metadata": {
        "id": "0fk1BZlf5suJ"
      },
      "source": [
        "## 3. Variations"
      ]
    },
    {
      "cell_type": "markdown",
      "metadata": {
        "id": "PIXdRgxI5suJ"
      },
      "source": [
        "❓ Relaunch the model on 500 iterations\n",
        "- Don't forget to call the `initialize_model` function, otherwise, your initial parameters will be those you have already learnt on the previous fit!!)\n",
        "- Plot the history to see how the loss changed over the different epochs/iterations."
      ]
    },
    {
      "cell_type": "code",
      "execution_count": null,
      "metadata": {
        "tags": [
          "challengify"
        ],
        "id": "p3Y9_Dft5suJ"
      },
      "outputs": [],
      "source": [
        "# YOUR CODE HERE"
      ]
    },
    {
      "cell_type": "markdown",
      "metadata": {
        "id": "hk8Xsopz5suJ"
      },
      "source": [
        "❓ Did the test accuracy improve?"
      ]
    },
    {
      "cell_type": "code",
      "execution_count": null,
      "metadata": {
        "tags": [
          "challengify"
        ],
        "id": "WvGEVYld5suK"
      },
      "outputs": [],
      "source": [
        "# YOUR CODE HERE"
      ]
    },
    {
      "cell_type": "markdown",
      "metadata": {
        "id": "t9KDYdN55suK"
      },
      "source": [
        "Not necessarily...So when should we stop training a Deep Learning Model?\n",
        "Answer in the next chapter `Optimizers, Loss, Fitting` of this `Deep Learning Module` !"
      ]
    },
    {
      "cell_type": "markdown",
      "metadata": {
        "id": "30gBjgkh5suK"
      },
      "source": [
        "❓ Let's try a **deeper** architecture that includes : \n",
        "\n",
        "- a first layer with 20 neurons (activation: `\"relu\"`)\n",
        "- a second layer with 10 neurons (activation: `\"relu\"`)\n",
        "- a third layer with 5 neurons (activation: `\"relu\"`)\n",
        "- an output layer suited for this problem\n"
      ]
    },
    {
      "cell_type": "code",
      "execution_count": null,
      "metadata": {
        "id": "np-vXtpE5suK"
      },
      "outputs": [],
      "source": [
        "def initialize_model_2():\n",
        "    ### Model architecture\n",
        "    pass  # YOUR CODE HERE\n",
        "    ### Model optimization : Optimized, loss and metric\n",
        "    model.compile(loss='binary_crossentropy',\n",
        "                  optimizer='adam',\n",
        "                  metrics=['accuracy'])\n",
        "    return model\n",
        "\n",
        "model = initialize_model_2()"
      ]
    },
    {
      "cell_type": "markdown",
      "metadata": {
        "id": "zH_oTF1H5suK"
      },
      "source": [
        "❓ What is the number of parameters of your new model?"
      ]
    },
    {
      "cell_type": "code",
      "execution_count": null,
      "metadata": {
        "tags": [
          "challengify"
        ],
        "id": "GTG7xRxE5suK"
      },
      "outputs": [],
      "source": [
        "# YOUR CODE HERE"
      ]
    },
    {
      "cell_type": "markdown",
      "metadata": {
        "id": "JPlJZY-u5suK"
      },
      "source": [
        "Run your model on the previous data with 500 epochs and plot the loss afterwards.  \n",
        "❓ What is your accuracy on the test test? Store it as `accuracy_deep` variable (`float`)."
      ]
    },
    {
      "cell_type": "code",
      "execution_count": null,
      "metadata": {
        "tags": [
          "challengify"
        ],
        "id": "uOXkQAfU5suK"
      },
      "outputs": [],
      "source": [
        "# YOUR CODE HERE"
      ]
    },
    {
      "cell_type": "code",
      "execution_count": null,
      "metadata": {
        "tags": [
          "challengify"
        ],
        "id": "MefsQ3Iq5suK"
      },
      "outputs": [],
      "source": [
        "# YOUR CODE HERE"
      ]
    },
    {
      "cell_type": "markdown",
      "metadata": {
        "id": "zUcI1_qn5suK"
      },
      "source": [
        "❓ Do you think we have overfitted on the noise? Check it out below"
      ]
    },
    {
      "cell_type": "code",
      "execution_count": null,
      "metadata": {
        "id": "jvqfOBdz5suK"
      },
      "outputs": [],
      "source": [
        "from utils.plots import plot_decision_regions"
      ]
    },
    {
      "cell_type": "code",
      "execution_count": null,
      "metadata": {
        "id": "EHn1FnjH5suL"
      },
      "outputs": [],
      "source": [
        "plot_decision_regions(X_train,y_train, model)"
      ]
    },
    {
      "cell_type": "markdown",
      "metadata": {
        "id": "tC2ezxnG5suL"
      },
      "source": [
        "🧪 **Test your code**"
      ]
    },
    {
      "cell_type": "code",
      "execution_count": null,
      "metadata": {
        "id": "9uMDFj_H5suL"
      },
      "outputs": [],
      "source": [
        "from nbresult import ChallengeResult\n",
        "result = ChallengeResult('deeper_model',\n",
        "                         accuracy=accuracy_deep)\n",
        "result.write()\n",
        "print(result.check())"
      ]
    },
    {
      "cell_type": "markdown",
      "metadata": {
        "id": "2aK5LFjw5suL"
      },
      "source": [
        "🏁 **Congratulations! Push and commmit this notebook before moving to the next**"
      ]
    }
  ],
  "metadata": {
    "kernelspec": {
      "display_name": "Python 3",
      "language": "python",
      "name": "python3"
    },
    "colab": {
      "name": "your_first_neural_network.ipynb",
      "provenance": [],
      "include_colab_link": true
    }
  },
  "nbformat": 4,
  "nbformat_minor": 0
}